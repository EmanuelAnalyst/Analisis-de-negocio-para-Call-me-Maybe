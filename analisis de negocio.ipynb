{
 "cells": [
  {
   "cell_type": "markdown",
   "metadata": {},
   "source": [
    "# Analisis de negocio para CallMeMaybe\n",
    "\n",
    "## Descripsion del proyecto: \n",
    "El objetivo de este análisis es evaluar el comportamiento de los usuarios de la compañia de telefonia virtual CallMeMaybe ya que se esta desarrollando una nueva funcion que ayude a los supervisores y las supervisoras a determinar cuales son los operadores menos eficases\n",
    "\n",
    "El análisis incluirá limpieza de datos, revisión de valores, y la aplicación de pruebas estadísticas para evaluar si los cambios propuestos aportaban un beneficio real."
   ]
  },
  {
   "cell_type": "code",
   "execution_count": 1,
   "metadata": {},
   "outputs": [],
   "source": [
    "import pandas as pd\n",
    "import seaborn as sns\n",
    "import matplotlib.pyplot as plt\n",
    "from statsmodels.stats.proportion import proportions_ztest\n",
    "from sqlalchemy import create_engine\n",
    "import urllib.request\n",
    "import os\n",
    "import numpy as np\n",
    "db_config = {'user': 'practicum_student',         # nombre de usuario\n",
    "             'pwd': 's65BlTKV3faNIGhmvJVzOqhs', # contraseña\n",
    "             'host': 'rc1b-wcoijxj3yxfsf3fs.mdb.yandexcloud.net',\n",
    "             'port': 6432,              # puerto de conexión\n",
    "             'db': 'data-analyst-final-project-db'}          # nombre de la base de datos\n",
    "\n",
    "connection_string = 'postgresql://{}:{}@{}:{}/{}'.format(db_config['user'],\n",
    "                                                                     db_config['pwd'],\n",
    "                                                                       db_config['host'],\n",
    "                                                                       db_config['port'],\n",
    "                                                                       db_config['db'])\n",
    "\n",
    "engine = create_engine(connection_string, connect_args={'sslmode':'require'})\n"
   ]
  },
  {
   "cell_type": "code",
   "execution_count": 2,
   "metadata": {},
   "outputs": [],
   "source": [
    "%matplotlib inline"
   ]
  },
  {
   "cell_type": "markdown",
   "metadata": {},
   "source": [
    "## lectura de los Datos"
   ]
  },
  {
   "cell_type": "code",
   "execution_count": 3,
   "metadata": {},
   "outputs": [
    {
     "name": "stdout",
     "output_type": "stream",
     "text": [
      "       user_id                       date direction internal  operator_id  \\\n",
      "0       166377  2019-08-04 00:00:00+03:00        in    False          NaN   \n",
      "1       166377  2019-08-05 00:00:00+03:00       out     True     880022.0   \n",
      "2       166377  2019-08-05 00:00:00+03:00       out     True     880020.0   \n",
      "3       166377  2019-08-05 00:00:00+03:00       out     True     880020.0   \n",
      "4       166377  2019-08-05 00:00:00+03:00       out    False     880022.0   \n",
      "...        ...                        ...       ...      ...          ...   \n",
      "53897   168606  2019-11-10 00:00:00+03:00       out     True     957922.0   \n",
      "53898   168606  2019-11-11 00:00:00+03:00       out     True     957922.0   \n",
      "53899   168606  2019-11-15 00:00:00+03:00       out     True     957922.0   \n",
      "53900   168606  2019-11-15 00:00:00+03:00       out     True     957922.0   \n",
      "53901   168606  2019-11-19 00:00:00+03:00        in    False          NaN   \n",
      "\n",
      "       is_missed_call  calls_count  call_duration  total_call_duration  \n",
      "0                True            2              0                    4  \n",
      "1                True            3              0                    5  \n",
      "2                True            1              0                    1  \n",
      "3               False            1             10                   18  \n",
      "4                True            3              0                   25  \n",
      "...               ...          ...            ...                  ...  \n",
      "53897            True            1              0                   38  \n",
      "53898           False            2            479                  501  \n",
      "53899           False            4           3130                 3190  \n",
      "53900           False            4           3130                 3190  \n",
      "53901            True            2              0                   64  \n",
      "\n",
      "[53902 rows x 9 columns]\n"
     ]
    }
   ],
   "source": [
    "df_telecom = pd.read_csv('/datasets/telecom_dataset_us.csv')\n",
    "print(df_telecom)"
   ]
  },
  {
   "cell_type": "markdown",
   "metadata": {},
   "source": [
    "<div class=\"alert alert-block alert-success\">\n",
    "<b>Celda [3]</b> <a class=\"tocSkip\"></a><br>\n",
    "Has hecho un excelente trabajo al cargar el conjunto de datos y mostrar una vista previa. Esto es crucial para entender la estructura y el contenido de los datos, lo que te ayudará a planificar el análisis de manera efectiva.\n",
    "</div>\n"
   ]
  },
  {
   "cell_type": "code",
   "execution_count": 4,
   "metadata": {},
   "outputs": [],
   "source": [
    "# Agrupar por operador para calcular métricas\n",
    "operator_stats = df_telecom[df_telecom['operator_id'].notnull()].groupby('operator_id').agg({\n",
    "    'call_duration': ['mean', 'sum'],\n",
    "    'is_missed_call': 'mean',\n",
    "    'calls_count': 'sum'\n",
    "})"
   ]
  },
  {
   "cell_type": "code",
   "execution_count": 5,
   "metadata": {},
   "outputs": [
    {
     "name": "stdout",
     "output_type": "stream",
     "text": [
      "Archivo CA.pem descargado correctamente.\n"
     ]
    }
   ],
   "source": [
    "# URL del archivo\n",
    "url = \"https://storage.yandexcloud.net/cloud-certs/CA.pem\"\n",
    "\n",
    "# Nombre del archivo que se guardará localmente\n",
    "filename = \"CA.pem\"\n",
    "\n",
    "# Descargar y guardar el archivo\n",
    "urllib.request.urlretrieve(url, filename)\n",
    "\n",
    "print(\"Archivo CA.pem descargado correctamente.\")"
   ]
  },
  {
   "cell_type": "code",
   "execution_count": 6,
   "metadata": {},
   "outputs": [
    {
     "name": "stdout",
     "output_type": "stream",
     "text": [
      "El archivo CA.pem ya existe en el directorio.\n"
     ]
    }
   ],
   "source": [
    "# Nombre del archivo\n",
    "filename = \"CA.pem\"\n",
    "\n",
    "# Verifica si el archivo ya existe\n",
    "if not os.path.exists(filename):\n",
    "    url = \"https://storage.yandexcloud.net/cloud-certs/CA.pem\"\n",
    "    try:\n",
    "        urllib.request.urlretrieve(url, filename)\n",
    "        print(\"Archivo CA.pem descargado correctamente.\")\n",
    "    except Exception as e:\n",
    "        print(f\"Error al descargar el archivo: {e}\")\n",
    "else:\n",
    "    print(\"El archivo CA.pem ya existe en el directorio.\")"
   ]
  },
  {
   "cell_type": "markdown",
   "metadata": {},
   "source": [
    "# Dataframe 1"
   ]
  },
  {
   "cell_type": "code",
   "execution_count": 7,
   "metadata": {},
   "outputs": [
    {
     "name": "stdout",
     "output_type": "stream",
     "text": [
      "<class 'pandas.core.frame.DataFrame'>\n",
      "RangeIndex: 53902 entries, 0 to 53901\n",
      "Data columns (total 9 columns):\n",
      " #   Column               Non-Null Count  Dtype  \n",
      "---  ------               --------------  -----  \n",
      " 0   user_id              53902 non-null  int64  \n",
      " 1   date                 53902 non-null  object \n",
      " 2   direction            53902 non-null  object \n",
      " 3   internal             53785 non-null  object \n",
      " 4   operator_id          45730 non-null  float64\n",
      " 5   is_missed_call       53902 non-null  bool   \n",
      " 6   calls_count          53902 non-null  int64  \n",
      " 7   call_duration        53902 non-null  int64  \n",
      " 8   total_call_duration  53902 non-null  int64  \n",
      "dtypes: bool(1), float64(1), int64(4), object(3)\n",
      "memory usage: 3.3+ MB\n"
     ]
    }
   ],
   "source": [
    "df_telecom.info()"
   ]
  },
  {
   "cell_type": "code",
   "execution_count": 8,
   "metadata": {},
   "outputs": [
    {
     "name": "stdout",
     "output_type": "stream",
     "text": [
      "user_id                   0\n",
      "date                      0\n",
      "direction                 0\n",
      "internal                117\n",
      "operator_id            8172\n",
      "is_missed_call            0\n",
      "calls_count               0\n",
      "call_duration             0\n",
      "total_call_duration       0\n",
      "dtype: int64\n"
     ]
    }
   ],
   "source": [
    "print(df_telecom.isnull().sum())    "
   ]
  },
  {
   "cell_type": "markdown",
   "metadata": {},
   "source": [
    "<div class=\"alert alert-block alert-success\">\n",
    "<b>Celda [8]</b> <a class=\"tocSkip\"></a><br>\n",
    "Has realizado un buen análisis de los valores nulos en tu DataFrame. Identificar estos valores es crucial para garantizar la integridad de los datos antes de proceder con cualquier análisis o modelado. Esto te permitirá tomar decisiones informadas sobre cómo manejarlos.\n",
    "</div>\n"
   ]
  },
  {
   "cell_type": "code",
   "execution_count": 9,
   "metadata": {},
   "outputs": [],
   "source": [
    "# reemplazar con 'unknown los valores nulos'\n",
    "df_telecom['operator_id'].fillna('unknown', inplace=True)"
   ]
  },
  {
   "cell_type": "code",
   "execution_count": 10,
   "metadata": {},
   "outputs": [],
   "source": [
    "df_telecom['internal'].fillna(df_telecom['internal'].mode()[0], inplace=True)"
   ]
  },
  {
   "cell_type": "code",
   "execution_count": 11,
   "metadata": {},
   "outputs": [],
   "source": [
    "df_telecom['date'] = pd.to_datetime(df_telecom['date'], format='%Y-%m-%d')"
   ]
  },
  {
   "cell_type": "markdown",
   "metadata": {},
   "source": [
    "<div class=\"alert alert-block alert-success\">\n",
    "<b>Celda [11]</b> <a class=\"tocSkip\"></a><br>\n",
    "La conversión de la columna 'date' a un formato de fecha y hora es un paso esencial para facilitar el análisis temporal. Esto asegura que los datos de tiempo se manejen correctamente y permite realizar análisis más precisos y significativos sobre tendencias y patrones temporales.\n",
    "</div>\n"
   ]
  },
  {
   "cell_type": "code",
   "execution_count": 12,
   "metadata": {},
   "outputs": [
    {
     "name": "stdout",
     "output_type": "stream",
     "text": [
      "0       2019-08-04 00:00:00+03:00\n",
      "1       2019-08-05 00:00:00+03:00\n",
      "2       2019-08-05 00:00:00+03:00\n",
      "3       2019-08-05 00:00:00+03:00\n",
      "4       2019-08-05 00:00:00+03:00\n",
      "                   ...           \n",
      "53897   2019-11-10 00:00:00+03:00\n",
      "53898   2019-11-11 00:00:00+03:00\n",
      "53899   2019-11-15 00:00:00+03:00\n",
      "53900   2019-11-15 00:00:00+03:00\n",
      "53901   2019-11-19 00:00:00+03:00\n",
      "Name: date, Length: 53902, dtype: datetime64[ns, pytz.FixedOffset(180)]\n"
     ]
    }
   ],
   "source": [
    "print(df_telecom['date'])"
   ]
  },
  {
   "cell_type": "code",
   "execution_count": 13,
   "metadata": {},
   "outputs": [
    {
     "name": "stdout",
     "output_type": "stream",
     "text": [
      "4900\n"
     ]
    }
   ],
   "source": [
    "print(df_telecom.duplicated().sum())"
   ]
  },
  {
   "cell_type": "markdown",
   "metadata": {},
   "source": [
    "<div class=\"alert alert-block alert-warning\">\n",
    "<b>Celda [13]</b> <a class=\"tocSkip\"></a><br>\n",
    "Has identificado duplicados en tu conjunto de datos. Es importante considerar cómo estos duplicados pueden afectar tus análisis. Decide si deben ser eliminados o tratados de otra manera, dependiendo de su impacto en los resultados que deseas obtener.\n",
    "</div>\n"
   ]
  },
  {
   "cell_type": "code",
   "execution_count": 14,
   "metadata": {},
   "outputs": [
    {
     "data": {
      "text/plain": [
       "Series([], Name: direction, dtype: int64)"
      ]
     },
     "execution_count": 14,
     "metadata": {},
     "output_type": "execute_result"
    }
   ],
   "source": [
    "df_telecom[df_telecom['operator_id'].isnull()]['direction'].value_counts()"
   ]
  },
  {
   "cell_type": "code",
   "execution_count": 15,
   "metadata": {},
   "outputs": [
    {
     "data": {
      "image/png": "[encoded data removed]",
      "text/plain": [
       "<Figure size 640x480 with 1 Axes>"
      ]
     },
     "metadata": {},
     "output_type": "display_data"
    }
   ],
   "source": [
    "sns.boxplot(x='is_missed_call', y='call_duration', data=df_telecom)\n",
    "plt.title(\"Duración de llamadas por tipo (Perdida o no)\")\n",
    "plt.show()"
   ]
  },
  {
   "cell_type": "markdown",
   "metadata": {},
   "source": [
    "<div class=\"alert alert-block alert-success\">\n",
    "<b>Celda [15]</b> <a class=\"tocSkip\"></a><br>\n",
    "La visualización de la duración de las llamadas por tipo utilizando un boxplot es una excelente manera de identificar patrones y posibles outliers en los datos. Esto te permite explorar la distribución de los datos y detectar cualquier anomalía que pueda requerir una atención especial.\n",
    "</div>\n"
   ]
  },
  {
   "cell_type": "code",
   "execution_count": 16,
   "metadata": {},
   "outputs": [
    {
     "name": "stdout",
     "output_type": "stream",
     "text": [
      "user_id                                                int64\n",
      "date                   datetime64[ns, pytz.FixedOffset(180)]\n",
      "direction                                             object\n",
      "internal                                                bool\n",
      "operator_id                                           object\n",
      "is_missed_call                                          bool\n",
      "calls_count                                            int64\n",
      "call_duration                                          int64\n",
      "total_call_duration                                    int64\n",
      "dtype: object\n"
     ]
    }
   ],
   "source": [
    "print(df_telecom.dtypes)\n"
   ]
  },
  {
   "cell_type": "code",
   "execution_count": 17,
   "metadata": {},
   "outputs": [],
   "source": [
    "df_telecom['call_duration'] = pd.to_numeric(df_telecom['call_duration'], errors='coerce')\n"
   ]
  },
  {
   "cell_type": "markdown",
   "metadata": {},
   "source": [
    "<div class=\"alert alert-block alert-warning\">\n",
    "<b>Celda [17]</b> <a class=\"tocSkip\"></a><br>\n",
    "Al convertir 'call_duration' a un formato numérico, asegúrate de manejar adecuadamente los valores que no se pueden convertir. Considera reemplazarlos con la mediana o media de la columna si es apropiado para tu análisis, ya que esto puede ayudar a mantener la integridad de los datos y evitar sesgos.\n",
    "</div>\n"
   ]
  },
  {
   "cell_type": "code",
   "execution_count": 18,
   "metadata": {},
   "outputs": [],
   "source": [
    "df_telecom['is_missed_call'] = df_telecom['is_missed_call'].astype('category')\n"
   ]
  },
  {
   "cell_type": "code",
   "execution_count": 19,
   "metadata": {},
   "outputs": [
    {
     "name": "stdout",
     "output_type": "stream",
     "text": [
      "  is_missed_call  call_duration\n",
      "0           True              0\n",
      "1           True              0\n",
      "2           True              0\n",
      "3          False             10\n",
      "4           True              0\n",
      "is_missed_call    0\n",
      "call_duration     0\n",
      "dtype: int64\n"
     ]
    }
   ],
   "source": [
    "print(df_telecom[['is_missed_call', 'call_duration']].head())\n",
    "print(df_telecom[['is_missed_call', 'call_duration']].isnull().sum())"
   ]
  },
  {
   "cell_type": "code",
   "execution_count": 20,
   "metadata": {},
   "outputs": [
    {
     "data": {
      "text/plain": [
       "0.43157953322696746"
      ]
     },
     "execution_count": 20,
     "metadata": {},
     "output_type": "execute_result"
    }
   ],
   "source": [
    "# Ver proporción de llamadas con duración cero\n",
    "(df_telecom['call_duration'] == 0).mean()"
   ]
  },
  {
   "cell_type": "markdown",
   "metadata": {},
   "source": [
    "<div class=\"alert alert-block alert-success\">\n",
    "<b>Celda [20]</b> <a class=\"tocSkip\"></a><br>\n",
    "Has calculado la proporción de llamadas con duración cero, lo cual es un paso importante para entender la calidad de los datos y su posible impacto en el análisis. Esto te ayudará a evaluar si estas llamadas deben ser tratadas de manera especial en tu análisis.\n",
    "</div>\n"
   ]
  },
  {
   "cell_type": "code",
   "execution_count": 21,
   "metadata": {},
   "outputs": [
    {
     "data": {
      "text/plain": [
       "Series([], dtype: int64)"
      ]
     },
     "execution_count": 21,
     "metadata": {},
     "output_type": "execute_result"
    }
   ],
   "source": [
    "df_telecom[df_telecom['operator_id'].isnull()][['direction', 'internal', 'is_missed_call']].value_counts()"
   ]
  },
  {
   "cell_type": "markdown",
   "metadata": {},
   "source": [
    "# DataFrame 2"
   ]
  },
  {
   "cell_type": "code",
   "execution_count": 22,
   "metadata": {},
   "outputs": [],
   "source": [
    "df_telecomclients = pd.read_csv('/datasets/telecom_clients_us.csv')"
   ]
  },
  {
   "cell_type": "code",
   "execution_count": 23,
   "metadata": {},
   "outputs": [
    {
     "name": "stdout",
     "output_type": "stream",
     "text": [
      "<class 'pandas.core.frame.DataFrame'>\n",
      "RangeIndex: 732 entries, 0 to 731\n",
      "Data columns (total 3 columns):\n",
      " #   Column       Non-Null Count  Dtype \n",
      "---  ------       --------------  ----- \n",
      " 0   user_id      732 non-null    int64 \n",
      " 1   tariff_plan  732 non-null    object\n",
      " 2   date_start   732 non-null    object\n",
      "dtypes: int64(1), object(2)\n",
      "memory usage: 17.3+ KB\n"
     ]
    }
   ],
   "source": [
    "df_telecomclients.info()"
   ]
  },
  {
   "cell_type": "code",
   "execution_count": 24,
   "metadata": {},
   "outputs": [],
   "source": [
    "df_telecomclients['date_start'] = pd.to_datetime(df_telecomclients['date_start'])\n"
   ]
  },
  {
   "cell_type": "code",
   "execution_count": 25,
   "metadata": {},
   "outputs": [
    {
     "name": "stdout",
     "output_type": "stream",
     "text": [
      "user_id        0\n",
      "tariff_plan    0\n",
      "date_start     0\n",
      "dtype: int64\n"
     ]
    }
   ],
   "source": [
    "print(df_telecomclients.isnull().sum())    "
   ]
  },
  {
   "cell_type": "code",
   "execution_count": 26,
   "metadata": {},
   "outputs": [
    {
     "name": "stdout",
     "output_type": "stream",
     "text": [
      "0\n"
     ]
    }
   ],
   "source": [
    "print(df_telecomclients.duplicated().sum())"
   ]
  },
  {
   "cell_type": "code",
   "execution_count": 27,
   "metadata": {},
   "outputs": [
    {
     "name": "stdout",
     "output_type": "stream",
     "text": [
      "  is_missed_call  call_duration\n",
      "0           True              0\n",
      "1           True              0\n",
      "2           True              0\n",
      "3          False             10\n",
      "4           True              0\n",
      "5          False              3\n",
      "6           True              0\n",
      "7           True              0\n",
      "8           True              0\n",
      "9           True              0\n",
      "user_id                                                int64\n",
      "date                   datetime64[ns, pytz.FixedOffset(180)]\n",
      "direction                                             object\n",
      "internal                                                bool\n",
      "operator_id                                           object\n",
      "is_missed_call                                      category\n",
      "calls_count                                            int64\n",
      "call_duration                                          int64\n",
      "total_call_duration                                    int64\n",
      "dtype: object\n",
      "is_missed_call    0\n",
      "call_duration     0\n",
      "dtype: int64\n",
      "False    30334\n",
      "True     23568\n",
      "Name: is_missed_call, dtype: int64\n"
     ]
    }
   ],
   "source": [
    "# Ver los primeros valores\n",
    "print(df_telecom[['is_missed_call', 'call_duration']].head(10))\n",
    "\n",
    "# Tipos de datos\n",
    "print(df_telecom.dtypes)\n",
    "\n",
    "# Conteo de valores nulos\n",
    "print(df_telecom[['is_missed_call', 'call_duration']].isnull().sum())\n",
    "\n",
    "# Conteo de valores únicos de 'is_missed_call'\n",
    "print(df_telecom['is_missed_call'].value_counts(dropna=False))"
   ]
  },
  {
   "cell_type": "code",
   "execution_count": 28,
   "metadata": {},
   "outputs": [
    {
     "data": {
      "image/png": "[encoded data removed]",
      "text/plain": [
       "<Figure size 640x480 with 1 Axes>"
      ]
     },
     "metadata": {},
     "output_type": "display_data"
    }
   ],
   "source": [
    "sns.boxplot(x=np.log1p(df_telecom['call_duration']))\n",
    "plt.title('Boxplot de call duration(call_duration + 1)')\n",
    "plt.show()"
   ]
  },
  {
   "cell_type": "code",
   "execution_count": 29,
   "metadata": {},
   "outputs": [
    {
     "data": {
      "text/plain": [
       "is_missed_call    category\n",
       "dtype: object"
      ]
     },
     "execution_count": 29,
     "metadata": {},
     "output_type": "execute_result"
    }
   ],
   "source": [
    "df_telecom.dtypes[df_telecom.dtypes == \"category\"]\n"
   ]
  },
  {
   "cell_type": "code",
   "execution_count": 30,
   "metadata": {},
   "outputs": [],
   "source": [
    "df_telecom['is_missed_call'] = df_telecom['is_missed_call'].astype(int)\n"
   ]
  },
  {
   "cell_type": "markdown",
   "metadata": {},
   "source": [
    "## proporcion de llamadas perdidas por operados"
   ]
  },
  {
   "cell_type": "code",
   "execution_count": 31,
   "metadata": {},
   "outputs": [
    {
     "data": {
      "text/html": [
       "<div>\n",
       "<style scoped>\n",
       "    .dataframe tbody tr th:only-of-type {\n",
       "        vertical-align: middle;\n",
       "    }\n",
       "\n",
       "    .dataframe tbody tr th {\n",
       "        vertical-align: top;\n",
       "    }\n",
       "\n",
       "    .dataframe thead th {\n",
       "        text-align: right;\n",
       "    }\n",
       "</style>\n",
       "<table border=\"1\" class=\"dataframe\">\n",
       "  <thead>\n",
       "    <tr style=\"text-align: right;\">\n",
       "      <th></th>\n",
       "      <th>total_calls</th>\n",
       "      <th>missed_calls</th>\n",
       "      <th>avg_duration</th>\n",
       "      <th>missed_ratio</th>\n",
       "    </tr>\n",
       "    <tr>\n",
       "      <th>operator_id</th>\n",
       "      <th></th>\n",
       "      <th></th>\n",
       "      <th></th>\n",
       "      <th></th>\n",
       "    </tr>\n",
       "  </thead>\n",
       "  <tbody>\n",
       "    <tr>\n",
       "      <th>932246.0</th>\n",
       "      <td>1</td>\n",
       "      <td>1</td>\n",
       "      <td>0.0</td>\n",
       "      <td>1.0</td>\n",
       "    </tr>\n",
       "    <tr>\n",
       "      <th>962904.0</th>\n",
       "      <td>1</td>\n",
       "      <td>1</td>\n",
       "      <td>0.0</td>\n",
       "      <td>1.0</td>\n",
       "    </tr>\n",
       "    <tr>\n",
       "      <th>941826.0</th>\n",
       "      <td>1</td>\n",
       "      <td>1</td>\n",
       "      <td>0.0</td>\n",
       "      <td>1.0</td>\n",
       "    </tr>\n",
       "    <tr>\n",
       "      <th>945074.0</th>\n",
       "      <td>1</td>\n",
       "      <td>1</td>\n",
       "      <td>0.0</td>\n",
       "      <td>1.0</td>\n",
       "    </tr>\n",
       "    <tr>\n",
       "      <th>891976.0</th>\n",
       "      <td>1</td>\n",
       "      <td>1</td>\n",
       "      <td>0.0</td>\n",
       "      <td>1.0</td>\n",
       "    </tr>\n",
       "    <tr>\n",
       "      <th>914272.0</th>\n",
       "      <td>1</td>\n",
       "      <td>1</td>\n",
       "      <td>0.0</td>\n",
       "      <td>1.0</td>\n",
       "    </tr>\n",
       "    <tr>\n",
       "      <th>928284.0</th>\n",
       "      <td>1</td>\n",
       "      <td>1</td>\n",
       "      <td>0.0</td>\n",
       "      <td>1.0</td>\n",
       "    </tr>\n",
       "    <tr>\n",
       "      <th>885682.0</th>\n",
       "      <td>3</td>\n",
       "      <td>3</td>\n",
       "      <td>0.0</td>\n",
       "      <td>1.0</td>\n",
       "    </tr>\n",
       "    <tr>\n",
       "      <th>954284.0</th>\n",
       "      <td>1</td>\n",
       "      <td>1</td>\n",
       "      <td>0.0</td>\n",
       "      <td>1.0</td>\n",
       "    </tr>\n",
       "    <tr>\n",
       "      <th>928282.0</th>\n",
       "      <td>2</td>\n",
       "      <td>2</td>\n",
       "      <td>0.0</td>\n",
       "      <td>1.0</td>\n",
       "    </tr>\n",
       "  </tbody>\n",
       "</table>\n",
       "</div>"
      ],
      "text/plain": [
       "             total_calls  missed_calls  avg_duration  missed_ratio\n",
       "operator_id                                                       \n",
       "932246.0               1             1           0.0           1.0\n",
       "962904.0               1             1           0.0           1.0\n",
       "941826.0               1             1           0.0           1.0\n",
       "945074.0               1             1           0.0           1.0\n",
       "891976.0               1             1           0.0           1.0\n",
       "914272.0               1             1           0.0           1.0\n",
       "928284.0               1             1           0.0           1.0\n",
       "885682.0               3             3           0.0           1.0\n",
       "954284.0               1             1           0.0           1.0\n",
       "928282.0               2             2           0.0           1.0"
      ]
     },
     "execution_count": 31,
     "metadata": {},
     "output_type": "execute_result"
    }
   ],
   "source": [
    "operator_stats = df_telecom[df_telecom['operator_id'].notna()].groupby('operator_id').agg(\n",
    "    total_calls=('is_missed_call', 'count'),\n",
    "    missed_calls=('is_missed_call', 'sum'),\n",
    "    avg_duration=('call_duration', 'mean')\n",
    ")\n",
    "\n",
    "operator_stats['missed_ratio'] = operator_stats['missed_calls'] / operator_stats['total_calls']\n",
    "operator_stats = operator_stats.sort_values('missed_ratio', ascending=False)\n",
    "operator_stats.head(10)"
   ]
  },
  {
   "cell_type": "markdown",
   "metadata": {},
   "source": [
    "## visualizacion de operadores ineficaces"
   ]
  },
  {
   "cell_type": "code",
   "execution_count": 32,
   "metadata": {},
   "outputs": [],
   "source": [
    "min_calls = 30 \n",
    "\n",
    "filtered_stats = operator_stats[operator_stats['total_calls'] >= min_calls]"
   ]
  },
  {
   "cell_type": "code",
   "execution_count": 33,
   "metadata": {},
   "outputs": [
    {
     "data": {
      "image/png": "[encoded data removed]",
      "text/plain": [
       "<Figure size 1000x600 with 1 Axes>"
      ]
     },
     "metadata": {},
     "output_type": "display_data"
    }
   ],
   "source": [
    "top_inefficient = filtered_stats.sort_values('missed_ratio', ascending=False).head(10)\n",
    "\n",
    "plt.figure(figsize=(10, 6))\n",
    "sns.barplot(\n",
    "    x=top_inefficient['missed_ratio'],\n",
    "    y=top_inefficient.index.astype(str),  # para mostrar el ID del operador\n",
    "    palette='Reds_r'\n",
    ")\n",
    "\n",
    "plt.xlabel('Proporción de llamadas perdidas')\n",
    "plt.ylabel('ID del operador')\n",
    "plt.title('Top 10 operadores con mayor tasa de llamadas perdidas')\n",
    "plt.xlim(0, 1)\n",
    "plt.tight_layout()\n",
    "plt.show()"
   ]
  },
  {
   "cell_type": "markdown",
   "metadata": {},
   "source": [
    "<div class=\"alert alert-block alert-success\">\n",
    "<b>Celda [33]</b> <a class=\"tocSkip\"></a><br>\n",
    "La visualización de los operadores con mayor proporción de llamadas perdidas es una excelente manera de identificar áreas problemáticas. Utilizar gráficos para comunicar tus hallazgos de manera efectiva es clave para que otros puedan entender y actuar sobre los resultados de tu análisis.\n",
    "</div>\n"
   ]
  },
  {
   "cell_type": "code",
   "execution_count": null,
   "metadata": {},
   "outputs": [],
   "source": []
  },
  {
   "cell_type": "markdown",
   "metadata": {},
   "source": [
    "<div class=\"alert alert-block alert-success\">\n",
    "<b>Comentario final</b> <a class=\"tocSkip\"></a><br>\n",
    "¡Muy buen trabajo, Emanuel! A lo largo del proyecto mostraste fortalezas muy claras:<br><br>\n",
    "• Cargaste y exploraste los datos de manera efectiva, asegurándote de comprender su estructura.<br>\n",
    "• Identificaste y trataste los valores nulos adecuadamente, lo cual es crucial para el análisis.<br>\n",
    "• Convertiste las columnas a los tipos de datos apropiados, como las fechas, facilitando el análisis temporal.<br>\n",
    "• Realizaste un análisis detallado de duplicados y valores nulos, asegurando la integridad de los datos.<br>\n",
    "• Usaste visualizaciones para explorar patrones en los datos, lo que enriqueció tu análisis.<br>\n",
    "• Calculaste métricas clave, como la proporción de llamadas con duración cero, para evaluar la calidad de los datos.<br>\n",
    "• Aplicaste transformaciones a los datos cuando fue necesario, mejorando la interpretación de los resultados.<br>\n",
    "• Documentaste tus pasos y decisiones de manera clara, facilitando la comprensión de tu proceso.<br>\n",
    "• Identificaste operadores con problemas mediante análisis visual, destacando áreas para mejora.<br>\n",
    "• Mantuviste un flujo de trabajo organizado y lógico, asegurando la coherencia del análisis.<br>\n",
    "¡Felicidades!\n",
    "</div>\n"
   ]
  },
  {
   "cell_type": "code",
   "execution_count": null,
   "metadata": {},
   "outputs": [],
   "source": []
  }
 ],
 "metadata": {
  "kernelspec": {
   "display_name": "Python 3 (ipykernel)",
   "language": "python",
   "name": "python3"
  },
  "language_info": {
   "codemirror_mode": {
    "name": "ipython",
    "version": 3
   },
   "file_extension": ".py",
   "mimetype": "text/x-python",
   "name": "python",
   "nbconvert_exporter": "python",
   "pygments_lexer": "ipython3",
   "version": "3.9.23"
  }
 },
 "nbformat": 4,
 "nbformat_minor": 4
}
